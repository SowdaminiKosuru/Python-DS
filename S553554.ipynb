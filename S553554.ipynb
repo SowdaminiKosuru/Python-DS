{
 "cells": [
  {
   "cell_type": "markdown",
   "id": "58553e5c-0bcf-422d-807a-8c80bad393e0",
   "metadata": {},
   "source": [
    "# Sowdamini"
   ]
  },
  {
   "cell_type": "code",
   "execution_count": 21,
   "id": "8cf8a548-d6c9-4c1d-a041-bf21069ec92d",
   "metadata": {},
   "outputs": [
    {
     "name": "stdout",
     "output_type": "stream",
     "text": [
      "                    \n",
      "\n",
      "                \n",
      "\n",
      "*             * \n",
      "\n",
      "* *         * * \n",
      "\n",
      "* * *     * * * \n",
      "\n",
      "* * * * * * * * \n",
      "\n"
     ]
    }
   ],
   "source": [
    "rows = 5\n",
    "for i in range(rows,-1,-1):\n",
    "    for j in range(i + 1, rows):\n",
    "        print('*', '', end='')\n",
    "    for l in range(i):\n",
    "        print('    ', end='')\n",
    "    for k in range(rows - 1, i, -1):\n",
    "        print('*', '',end='')\n",
    "    print('\\n')"
   ]
  },
  {
   "cell_type": "code",
   "execution_count": null,
   "id": "111eca67-705d-4642-82dc-7acfdafc83bf",
   "metadata": {},
   "outputs": [],
   "source": []
  },
  {
   "cell_type": "code",
   "execution_count": null,
   "id": "813478d7-7ea5-4636-a8e7-ae2b62592286",
   "metadata": {},
   "outputs": [],
   "source": []
  },
  {
   "cell_type": "code",
   "execution_count": null,
   "id": "b4b4d80f-1caf-4cc5-aca3-182e9e0a8d3d",
   "metadata": {},
   "outputs": [],
   "source": []
  },
  {
   "cell_type": "code",
   "execution_count": null,
   "id": "99c86c93-7cc1-41e6-8d84-75bd6b4b73c5",
   "metadata": {},
   "outputs": [],
   "source": []
  },
  {
   "cell_type": "code",
   "execution_count": null,
   "id": "d65834eb-db5f-49ed-8179-5aae7ceac7b1",
   "metadata": {},
   "outputs": [],
   "source": []
  },
  {
   "cell_type": "code",
   "execution_count": null,
   "id": "935bee1e-9da8-441c-a944-5f1838fca0b7",
   "metadata": {},
   "outputs": [],
   "source": []
  },
  {
   "cell_type": "code",
   "execution_count": null,
   "id": "3ae18f42-b82c-4b1a-a56c-717e349cc364",
   "metadata": {},
   "outputs": [],
   "source": []
  },
  {
   "cell_type": "code",
   "execution_count": null,
   "id": "2b44ed1a-05ae-47df-9f46-2f1090a6afdb",
   "metadata": {},
   "outputs": [],
   "source": []
  },
  {
   "cell_type": "code",
   "execution_count": null,
   "id": "7fb043b5-5a3e-4ef0-9937-4f7157f7d369",
   "metadata": {},
   "outputs": [],
   "source": []
  },
  {
   "cell_type": "code",
   "execution_count": null,
   "id": "960ce19d-f6e2-4bb8-874a-d8df58103eb0",
   "metadata": {},
   "outputs": [],
   "source": []
  },
  {
   "cell_type": "code",
   "execution_count": null,
   "id": "9a9cc0a1-d81b-4246-b43f-7fa2dfb5ac60",
   "metadata": {},
   "outputs": [],
   "source": []
  },
  {
   "cell_type": "code",
   "execution_count": null,
   "id": "28722993-2f0e-4d28-9098-59b69cd445fe",
   "metadata": {},
   "outputs": [],
   "source": []
  }
 ],
 "metadata": {
  "kernelspec": {
   "display_name": "Python 3 (ipykernel)",
   "language": "python",
   "name": "python3"
  },
  "language_info": {
   "codemirror_mode": {
    "name": "ipython",
    "version": 3
   },
   "file_extension": ".py",
   "mimetype": "text/x-python",
   "name": "python",
   "nbconvert_exporter": "python",
   "pygments_lexer": "ipython3",
   "version": "3.9.12"
  }
 },
 "nbformat": 4,
 "nbformat_minor": 5
}
