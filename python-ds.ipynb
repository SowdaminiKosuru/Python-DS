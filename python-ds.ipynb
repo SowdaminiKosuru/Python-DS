{
 "cells": [
  {
   "cell_type": "markdown",
   "metadata": {},
   "source": [
    "# Web Mining and Applied NLP (44-620)\n",
    "\n",
    "## Python Notebooks, Basics, and Data Structures\n",
    "\n",
    "### Sowdamini\n",
    "\n",
    "Perform the tasks described in the Markdown cells below.  When you have completed the assignment make sure your code cells have all been run (and have output beneath them) and ensure you have committed and pushed ALL of your changes to your assignment repository.\n",
    "\n",
    "Every question that requires you to write code will have a code cell underneath it; you may either write your entire solution in that cell or write it in a python file (`.py`), then import and run the appropriate code to answer the question.\n",
    "\n",
    "Do not use external modules (`math`, etc) for this assignment unless you are explicitly instructed to, though you may use built in python functions (`min`, `max`, etc) as you wish."
   ]
  },
  {
   "cell_type": "markdown",
   "metadata": {},
   "source": [
    "# https://github.com/SowdaminiKosuru/Python-DS"
   ]
  },
  {
   "cell_type": "markdown",
   "metadata": {},
   "source": [
    "## Question - 2"
   ]
  },
  {
   "cell_type": "markdown",
   "metadata": {
    "tags": []
   },
   "source": [
    "2. Write code that divides any two numbers, stores the result in a variable, and prints the result with an appropriate label."
   ]
  },
  {
   "cell_type": "code",
   "execution_count": 1,
   "metadata": {},
   "outputs": [
    {
     "name": "stdin",
     "output_type": "stream",
     "text": [
      "Enter num1: 11\n",
      "Enter num2: 9\n"
     ]
    },
    {
     "name": "stdout",
     "output_type": "stream",
     "text": [
      "Result of division of num1,num2: 1.2222222222222223\n"
     ]
    }
   ],
   "source": [
    "num1 = int(input(\"Enter num1:\"))\n",
    "num2 = int(input(\"Enter num2:\"))\n",
    "result = num1/num2\n",
    "print(\"Result of division of num1,num2:\",result)"
   ]
  },
  {
   "cell_type": "markdown",
   "metadata": {
    "tags": []
   },
   "source": [
    "3. Using loops (and potentially conditionals), write Python code that prints the factorial of each integer from 1 through 10 (which you can store in a variable if you want). The factorial of an integer is the product of all of the integers of 1 through the number. Print the result with an appropriate label."
   ]
  },
  {
   "cell_type": "markdown",
   "metadata": {},
   "source": [
    "# Question - 3"
   ]
  },
  {
   "cell_type": "code",
   "execution_count": 2,
   "metadata": {},
   "outputs": [
    {
     "name": "stdout",
     "output_type": "stream",
     "text": [
      "factorial of 1 is:  1\n",
      "factorial of 2 is:  2\n",
      "factorial of 3 is:  6\n",
      "factorial of 4 is:  24\n",
      "factorial of 5 is:  120\n",
      "factorial of 6 is:  720\n",
      "factorial of 7 is:  5040\n",
      "factorial of 8 is:  40320\n",
      "factorial of 9 is:  362880\n",
      "factorial of 10 is:  3628800\n"
     ]
    }
   ],
   "source": [
    "def factorial(n):\n",
    "    if isinstance(n,int) and n >= 0: \n",
    "        if n == 0: \n",
    "            return 1\n",
    "        else:\n",
    "            factorial = 1\n",
    "            while n > 1: \n",
    "                factorial = factorial * n\n",
    "                n = n - 1\n",
    "            return factorial\n",
    "    else: \n",
    "        return \"Not valid input\"\n",
    "    \n",
    "for i in range(1,11): #takes n+1 range\n",
    "    x = factorial(i)\n",
    "    print(\"factorial of\",i,\"is: \",x)"
   ]
  },
  {
   "cell_type": "markdown",
   "metadata": {
    "tags": []
   },
   "source": [
    "4. Write a python function that takes a single parameter and calculates and returns the average (mean) of the values in the parameter (which you may assume is iterable).  Show that your function works by printing the result of calling the function on the list in the cell below."
   ]
  },
  {
   "cell_type": "markdown",
   "metadata": {},
   "source": [
    "# Question - 4"
   ]
  },
  {
   "cell_type": "code",
   "execution_count": 3,
   "metadata": {},
   "outputs": [
    {
     "name": "stdout",
     "output_type": "stream",
     "text": [
      "Mean is : 0.0\n"
     ]
    }
   ],
   "source": [
    "import statistics\n",
    "\"\"\" Have implemented this in 2 ways where we can have the mean using statistics package and through iterable list\n",
    "def cal_mean(list1):\n",
    "    sum = 0\n",
    "    mean_list1 = statistics.mean(list1)\n",
    "    return mean_list1\n",
    "        \n",
    "testlist = [1,-1,2,-2,3,-3,4,-4]\n",
    "print('Mean is :',cal_mean(testlist)) \"\"\"\n",
    "\n",
    "def cal_mean(list1):\n",
    "    sum = 0\n",
    "    #mean_list1 = statistics.mean(list1)\n",
    "    for i in list1:\n",
    "        sum = sum + i;\n",
    "    final_mean = sum/len(list1)\n",
    "    return final_mean\n",
    "        \n",
    "testlist = [1,-1,2,-2,3,-3,4,-4]\n",
    "print('Mean is :',cal_mean(testlist))"
   ]
  },
  {
   "cell_type": "markdown",
   "metadata": {
    "tags": []
   },
   "source": [
    "5. Using your mean function above, write a function that calculates the variance of the list of numbers (see https://en.wikipedia.org/wiki/Variance for more information on the formula). In short:\n",
    "* subtract the mean of the elements in the list from every element in the list; store these values in a new list\n",
    "* square every element in the new list and sum the elements together\n",
    "* divide the resulting number by N (where N is the length of the original list)\n",
    "\n",
    "Show the result of calling your function in the lists in the code cell. You must use one or more list comprehensions or map/filter in your code.\n"
   ]
  },
  {
   "cell_type": "markdown",
   "metadata": {},
   "source": [
    "# Question - 5"
   ]
  },
  {
   "cell_type": "code",
   "execution_count": 4,
   "metadata": {},
   "outputs": [
    {
     "name": "stdout",
     "output_type": "stream",
     "text": [
      "Variance of list1 : 1.13973309\n",
      "Variance of list2 : 0.012559684900000003\n"
     ]
    }
   ],
   "source": [
    "# the variances of both lists should be relatively close to 1 (off by less than .15)\n",
    "def calculate_variance(list1,list2):\n",
    "    \"\"\" STEP-1 subtract the mean of the elements in the list from every element in the list; store these values in a new list \"\"\"\n",
    "    list1_mean = statistics.mean(list1)\n",
    "    list2_mean = statistics.mean(list2)\n",
    "\n",
    "    new_list1 = []\n",
    "    new_list2 = []\n",
    "\n",
    "    for i in range(len(list1)):\n",
    "        new_list1.append(list1[i]-list1_mean)\n",
    "\n",
    "    for j in range(len(list2)):\n",
    "        new_list2.append(list2[i]-list2_mean)   \n",
    "\n",
    "    \"\"\" STEP-2 square every element in the new list and sum the elements together \"\"\"\n",
    "\n",
    "    new_list1 = [x**2 for x in new_list1]\n",
    "    new_list2 = list(map(lambda x: x**2,new_list2))\n",
    "\n",
    "    sum_new_list1 = sum(new_list1)\n",
    "    sum_new_list2 = sum(new_list2)\n",
    "    \n",
    "    \"\"\" STEP-3 divide the resulting number by N (where N is the length of the original list) \"\"\"\n",
    "    \n",
    "    print('Variance of list1 :',(sum_new_list1)/(len(list1)))\n",
    "    print('Variance of list2 :',(sum_new_list2)/(len(list2)))\n",
    "    \n",
    "list1 = [ 5.670e-1, -1.480e+0, -5.570e-1, -1.470e+0, 7.340e-1, 1.050e+0, 4.480e-1, 2.570e-1, -1.970e+0, -1.460e+0]\n",
    "list2 = [-1.780e+0, 2.640e-1, 1.160e+0, 9.080e-1, 1.780e+0, 1.080e+0, 1.050e+0, -4.630e-2, 1.520e+0, 5.350e-1]\n",
    "calculate_variance(list1,list2)"
   ]
  },
  {
   "cell_type": "markdown",
   "metadata": {
    "tags": []
   },
   "source": [
    "6. Create a list with at least 15 elements in it. Use list slicing to print the following:\n",
    "* The first 5 elements of the list\n",
    "* The last 5 elements of the list\n",
    "* The list reversed (hint, show the entire list with a stride of -1)\n",
    "* Every second element in the list\n",
    "* Every third element in the list (stride of 3)"
   ]
  },
  {
   "cell_type": "markdown",
   "metadata": {},
   "source": [
    "# Question - 6"
   ]
  },
  {
   "cell_type": "code",
   "execution_count": 5,
   "metadata": {},
   "outputs": [
    {
     "name": "stdout",
     "output_type": "stream",
     "text": [
      "First 5 elements : ['Red', 'Blue', 'Green', 'Orange', 'Yellow']\n",
      "Last 5 elements : ['Grey', 'Peach', 'Black', 'Tan', 'Violet']\n",
      "Reversed List : ['Violet', 'Tan', 'Black', 'Peach', 'Grey', 'Olive', 'Brown', 'Pink', 'Teal', 'Magenta', 'Yellow', 'Orange', 'Green', 'Blue', 'Red']\n",
      "Every Second Element : ['Blue', 'Orange', 'Magenta', 'Pink', 'Olive', 'Peach', 'Tan']\n",
      "Every Third Element : ['Red', 'Orange', 'Teal', 'Olive', 'Black']\n"
     ]
    }
   ],
   "source": [
    "colors_list = ['Red','Blue','Green','Orange','Yellow','Magenta','Teal','Pink','Brown','Olive','Grey','Peach','Black','Tan','Violet']\n",
    "print('First 5 elements :',colors_list[0:5])\n",
    "print('Last 5 elements :',colors_list[10:15])\n",
    "print('Reversed List :',colors_list[::-1])\n",
    "print('Every Second Element :',colors_list[1:15:2])\n",
    "print('Every Third Element :',colors_list[0:15:3])"
   ]
  },
  {
   "cell_type": "markdown",
   "metadata": {
    "tags": []
   },
   "source": [
    "7. Build a dictionary that contains the following information about this class (with appropriate names as keys):\n",
    "* The name\n",
    "* The course number\n",
    "* The semester/term in which you are taking this course\n",
    "* The number of credit hours this course counts for\n",
    "* A list of the course learning objectives\n",
    "\n",
    "The majority of this information can be found in the syllabus. Print the dictionary."
   ]
  },
  {
   "cell_type": "markdown",
   "metadata": {},
   "source": [
    "# Question - 7"
   ]
  },
  {
   "cell_type": "code",
   "execution_count": 6,
   "metadata": {},
   "outputs": [
    {
     "name": "stdout",
     "output_type": "stream",
     "text": [
      "{'Name': 'Sowdamini', 'CourseNumber': '44620', 'Term': 'Fall Block-2', 'CreditHours': '3', 'LearningObjectives': ['Python Data Structures', 'Web Mining', 'NLP', 'Machine Learning']}\n"
     ]
    }
   ],
   "source": [
    "details_dict = {'Name': 'Sowdamini','CourseNumber':'44620','Term':'Fall Block-2','CreditHours':'3','LearningObjectives':['Python Data Structures', 'Web Mining','NLP','Machine Learning']}\n",
    "print(details_dict)"
   ]
  },
  {
   "cell_type": "markdown",
   "metadata": {
    "tags": []
   },
   "source": [
    "8.  Given the dictionary defined in the code cell below, print the list of level 3 spells the character has."
   ]
  },
  {
   "cell_type": "markdown",
   "metadata": {},
   "source": [
    "# Question - 8"
   ]
  },
  {
   "cell_type": "code",
   "execution_count": 7,
   "metadata": {},
   "outputs": [
    {
     "name": "stdout",
     "output_type": "stream",
     "text": [
      "Level 3 spells are :  ['Mass Healing Word', 'Nondetection', 'Revivify', 'Feign Death', 'Speak with Dead']\n"
     ]
    }
   ],
   "source": [
    "player_character = {'name': 'Kitab',\n",
    "                   'class': [('Cleric: Knowledge', 7)],\n",
    "                   'spells': {'cantrip': ['Guidance', 'Light', 'Thaumaturgy', 'Toll the Dead', 'Word of Radiance'],\n",
    "                             'level 1': ['Command', 'Detect Magic', 'Healing Word', 'Identify', 'Sleep'],\n",
    "                             'level 2': ['Augury', 'Calm Emotions', 'Command', 'Invisibility', 'Lesser Restoration'],\n",
    "                             'level 3': ['Mass Healing Word', 'Nondetection', 'Revivify', 'Feign Death', 'Speak with Dead'],\n",
    "                             'level 4': ['Banishment', 'Confusion']}\n",
    "                   }\n",
    "\n",
    "print('Level 3 spells are : ',player_character['spells']['level 3'])"
   ]
  },
  {
   "cell_type": "markdown",
   "metadata": {
    "tags": []
   },
   "source": [
    "9. Write code to determine the number of unique elements in the list below.  You MUST use a set in finding your solution.  Print the number of unique values in the list with an appropriate label."
   ]
  },
  {
   "cell_type": "markdown",
   "metadata": {},
   "source": [
    "# Question - 9"
   ]
  },
  {
   "cell_type": "code",
   "execution_count": 8,
   "metadata": {},
   "outputs": [
    {
     "name": "stdout",
     "output_type": "stream",
     "text": [
      "Unique Values are :\n",
      "0\n",
      "1\n",
      "5\n",
      "6\n",
      "7\n",
      "8\n",
      "9\n",
      "10\n",
      "11\n",
      "12\n",
      "13\n",
      "15\n"
     ]
    }
   ],
   "source": [
    "values = [10, 11, 10, 8, 1, 12, 0, 1, 6, 5, 5, 13, 6, 15, 0, 0, 1, 1, 9, 7]\n",
    "values_set = set(values)\n",
    "values_list = list(values_set)\n",
    "print('Unique Values are :')\n",
    "for i in values_list:\n",
    "    print(i)"
   ]
  },
  {
   "cell_type": "markdown",
   "metadata": {
    "tags": []
   },
   "source": [
    "10. Create a new Jupyter Notebook (the name of the notebook should be your S number). Add a Markdown cell that contains your name. Add a Code cell and write Python that uses loops to draw the following pattern:\n",
    "\n",
    "```\n",
    "*      *\n",
    "**    **\n",
    "***  ***\n",
    "********\n",
    "```\n",
    "Make sure to add and submit both the new notebook and the changes to this notebook for this assignment."
   ]
  },
  {
   "cell_type": "markdown",
   "metadata": {},
   "source": [
    "# Question -10 is done in Notebook named S553554"
   ]
  }
 ],
 "metadata": {
  "kernelspec": {
   "display_name": "Python 3 (ipykernel)",
   "language": "python",
   "name": "python3"
  },
  "language_info": {
   "codemirror_mode": {
    "name": "ipython",
    "version": 3
   },
   "file_extension": ".py",
   "mimetype": "text/x-python",
   "name": "python",
   "nbconvert_exporter": "python",
   "pygments_lexer": "ipython3",
   "version": "3.9.12"
  }
 },
 "nbformat": 4,
 "nbformat_minor": 4
}
